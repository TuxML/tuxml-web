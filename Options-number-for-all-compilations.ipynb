{
 "cells": [
  {
   "cell_type": "code",
   "execution_count": 3,
   "id": "frozen-china",
   "metadata": {},
   "outputs": [
    {
     "name": "stdout",
     "output_type": "stream",
     "text": [
      "----------------------------------start------------------------------------------\n",
      "-------------------------liste des cid de la version 4.18--------------------------\n",
      "[75160, 193292, 193293, 193294, 193333, 193334, 193335, 193367, 193368, 193410, 193412, 193447, 193537, 193580, 193599, 193615, 193631, 193639, 193648, 193658, 193666, 193675, 193685, 193693, 193702, 193712, 193720, 193729, 193739, 193747, 193756, 193766, 193774, 193782, 193792, 193800, 193809, 193819, 193827, 193836, 193846, 193854, 193863, 193872, 193880, 193889, 193910, 193921, 193929, 193940, 193951, 193962, 193972, 193983, 193995, 194006, 194017, 194028, 194039, 194050, 194061, 194072, 194083, 194093, 194104, 194115, 194126, 194137, 194148, 194159, 194170, 194184, 194195, 194206]\n",
      "-------------------------liste des cid de la version 5.9--------------------------\n",
      "[193431, 193432]\n",
      "----------------------------------separateur--------------------------------------\n",
      "-------------------------nombre d'options pour la version 4.18--------------------------\n",
      "[1284, 1284, 1284, 1284, 1284, 1284, 7342, 6316, 6294, 7588, 8438, 6837, 1284, 1284, 1284, 1284, 1284, 1284, 1284, 1284, 1284, 1284, 1284, 1284, 1284, 1284, 1284, 1284, 1284, 1284, 1284, 1284, 1284, 1284, 1284, 1284, 1284, 1284, 1284, 1284, 1284, 1284, 1284, 1284, 1284, 1284, 1284, 1284, 1284, 1284, 1284, 1284, 7869, 6772, 7183, 1284, 1284, 1284, 1284, 1284, 1284, 1284, 1284, 1284, 1284, 1284, 1284, 1284, 1284, 1284, 1284, 1284, 1284, 1284, 1284, 1287]\n",
      "-------------------------nombre d'options pour la version 5.9--------------------------\n",
      "[1414, 1414]\n",
      "----------------moyennes dapparition des options pour toutes les compilations---------------\n",
      "----------------------------------finish------------------------------------------\n"
     ]
    }
   ],
   "source": [
    "import os\n",
    "from options_number import *\n",
    "# versions : [4.13.3, 4.15, 4.16, 4.17, 4.18, 4.20, 5.0, 5.1, 5.10, 5.4, 5.7, 5.8, 5.9]\n",
    "print(\"----------------------------------start------------------------------------------\")\n",
    "z=[]\n",
    "general_path = \"C:/Users/zbouk/OneDrive/Bureau/Study/Second semester/Tuxml/Files-config/\"\n",
    "folder_path_5_9 = \"C:/Users/zbouk/OneDrive/Bureau/Study/Second semester/Tuxml/Files-config/5.9\"\n",
    "folder_path_4_15 = \"C:/Users/zbouk/OneDrive/Bureau/Study/Second semester/Tuxml/Files-config/4.15\"\n",
    "folder_path_4_16 = \"C:/Users/zbouk/OneDrive/Bureau/Study/Second semester/Tuxml/Files-config/4.16\"\n",
    "folder_path_4_17 = \"C:/Users/zbouk/OneDrive/Bureau/Study/Second semester/Tuxml/Files-config/4.17\"\n",
    "folder_path_4_18 = \"C:/Users/zbouk/OneDrive/Bureau/Study/Second semester/Tuxml/Files-config/4.18\"\n",
    "folder_path_4_20 = \"C:/Users/zbouk/OneDrive/Bureau/Study/Second semester/Tuxml/Files-config/4.20\"\n",
    "z.append(folder_path_5_9)\n",
    "z.append(folder_path_4_15)\n",
    "z.append(folder_path_4_16)\n",
    "z.append(folder_path_4_17)\n",
    "z.append(folder_path_4_18)\n",
    "z.append(folder_path_4_20)\n",
    "\n",
    "x4_18 = get_all_list_of_cid_for_version(4.18)\n",
    "x5_9 = get_all_list_of_cid_for_version(5.9)\n",
    "#Le nombre d'options pour ces compilations\n",
    "# options(x1) recupere les fichiers configs depuis la base de donnée\n",
    "#y4_18 = options(x4_18)\n",
    "print(\"-------------------------liste des cid de la version 4.18--------------------------\")\n",
    "print(x4_18)\n",
    "print(\"-------------------------liste des cid de la version 5.9--------------------------\")\n",
    "print(x5_9)\n",
    "print(\"----------------------------------separateur--------------------------------------\")\n",
    "# options2(x1) recupere les fichiers configs depuis la machine local\n",
    "print(\"-------------------------nombre d'options pour la version 4.18--------------------------\")\n",
    "y4_18 = options2(folder_path_4_18,4.18)\n",
    "print(y4_18)\n",
    "print(\"-------------------------nombre d'options pour la version 5.9--------------------------\")\n",
    "y5_9 = options2(folder_path_5_9,5.9)\n",
    "print(y5_9)\n",
    "print(\"----------------moyennes dapparition des options pour toutes les compilations---------------\")\n",
    "#m = liste_de_toutes_les_moyennes(folder_path_4_18)\n",
    "#print(m)\n",
    "\n",
    "print(\"----------------------------------finish------------------------------------------\")\n"
   ]
  }
 ],
 "metadata": {
  "kernelspec": {
   "display_name": "Python 3",
   "language": "python",
   "name": "python3"
  },
  "language_info": {
   "codemirror_mode": {
    "name": "ipython",
    "version": 3
   },
   "file_extension": ".py",
   "mimetype": "text/x-python",
   "name": "python",
   "nbconvert_exporter": "python",
   "pygments_lexer": "ipython3",
   "version": "3.9.1"
  }
 },
 "nbformat": 4,
 "nbformat_minor": 5
}
