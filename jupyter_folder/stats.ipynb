{
 "cells": [
  {
   "cell_type": "code",
   "execution_count": 1,
   "id": "criminal-merchandise",
   "metadata": {},
   "outputs": [
    {
     "data": {
      "text/plain": [
       "[-1,\n",
       " '11.56',\n",
       " '11.56',\n",
       " '11.56',\n",
       " '11.56',\n",
       " '11.56',\n",
       " '11.56',\n",
       " '11.57',\n",
       " '11.57',\n",
       " '11.62',\n",
       " '11.63',\n",
       " '11.63',\n",
       " '26.67',\n",
       " '27.77',\n",
       " '30.78',\n",
       " '31.44',\n",
       " '31.46',\n",
       " '36.65']"
      ]
     },
     "execution_count": 1,
     "metadata": {},
     "output_type": "execute_result"
    }
   ],
   "source": [
    "from getKernelSize import getKernelSizeVersionList\n",
    "w= getKernelSizeVersionList(5.1)\n",
    "w"
   ]
  },
  {
   "cell_type": "code",
   "execution_count": null,
   "id": "committed-wages",
   "metadata": {},
   "outputs": [],
   "source": []
  },
  {
   "cell_type": "code",
   "execution_count": 2,
   "id": "vietnamese-badge",
   "metadata": {},
   "outputs": [
    {
     "data": {
      "image/png": "[encoded data removed]",
      "text/plain": [
       "<Figure size 432x288 with 1 Axes>"
      ]
     },
     "metadata": {
      "needs_background": "light"
     },
     "output_type": "display_data"
    }
   ],
   "source": [
    "import matplotlib.pyplot as plt\n",
    "\n",
    "\n",
    "\n",
    "plt.hist(w)\n",
    "\n",
    "plt.title('kernel size distribution', fontsize=10)\n",
    "plt.xlabel('Mo')\n",
    "\n",
    "plt.show()"
   ]
  },
  {
   "cell_type": "code",
   "execution_count": null,
   "id": "blond-surname",
   "metadata": {},
   "outputs": [],
   "source": []
  }
 ],
 "metadata": {
  "kernelspec": {
   "display_name": "Python 3",
   "language": "python",
   "name": "python3"
  },
  "language_info": {
   "codemirror_mode": {
    "name": "ipython",
    "version": 3
   },
   "file_extension": ".py",
   "mimetype": "text/x-python",
   "name": "python",
   "nbconvert_exporter": "python",
   "pygments_lexer": "ipython3",
   "version": "3.8.5"
  }
 },
 "nbformat": 4,
 "nbformat_minor": 5
}
